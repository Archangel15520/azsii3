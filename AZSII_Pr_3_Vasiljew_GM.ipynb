{
  "nbformat": 4,
  "nbformat_minor": 0,
  "metadata": {
    "colab": {
      "provenance": []
    },
    "kernelspec": {
      "name": "python3",
      "display_name": "Python 3"
    },
    "language_info": {
      "name": "python"
    }
  },
  "cells": [
    {
      "cell_type": "markdown",
      "source": [
        "### Группа: ББМО-02-23\n",
        "### Студент: Васильев Григорий Максимович\n",
        "### Практика 3: Атака Carlini-Wagner (CW) на модели ИИ"
      ],
      "metadata": {
        "id": "4ofk_bBpCZj-"
      }
    },
    {
      "cell_type": "markdown",
      "source": [
        "Обученную модель 'mnist_model.h5' для загрузки в код можно найти в репозитории перейдя по ссылке:\n",
        "https://github.com/Archangel15520/AZSII-REPO/blob/main/README.md"
      ],
      "metadata": {
        "id": "ZwdIc82uC9b1"
      }
    },
    {
      "cell_type": "markdown",
      "source": [
        "**Атака Карлини-Уагнера (Carlini-Wagner Attack)** — это метод создания противоходных примеров (adversarial examples), которые призваны обмануть модель машинного обучения, заставляя её делать неверные предсказания, даже при небольших изменениях входных данных. Основные характеристики этой атаки:\n",
        "\n",
        "**Цели атаки:**\n",
        "\n",
        "Минимизация изменения: Атака Карлини-Уагнера разработана для минимизации изменений, необходимых для достижения неверного предсказания. Это означает, что она ищет такие изменения во входных данных, которые являются как можно менее заметными для человека.\n",
        "\n",
        "**Неверные предсказания:**\n",
        "\n",
        "Атака направлена на то, чтобы заставить модель предсказать неправильный класс для входного изображения, сохраняя при этом визуальную схожесть с оригинальным изображением.\n",
        "\n",
        "Сложные задачи: Атака может быть использована для различных задач, включая классификацию изображений, распознавание речи и другие виды предсказаний.\n",
        "\n",
        "**Применение:**\n",
        "\n",
        "Тестирование устойчивости моделей: Один из основных способов использования этой атаки — это тестирование устойчивости моделей к противоходным примерам, что позволяет исследователям и разработчикам улучшать безопасность своих моделей.\n",
        "\n",
        "Разработка противодействий: Понимание того, как модели реагируют на такие атаки, помогает в разработке методов защиты, направленных на улучшение устойчивости моделей."
      ],
      "metadata": {
        "id": "gUStUbKNXsLJ"
      }
    },
    {
      "cell_type": "code",
      "source": [
        "!pip install foolbox\n",
        "\n",
        "# Импорт необходимых библиотек\n",
        "import tensorflow as tf\n",
        "from tensorflow.keras.datasets import mnist\n",
        "from tensorflow.keras.utils import to_categorical\n",
        "import foolbox as fb\n",
        "import numpy as np\n",
        "import matplotlib.pyplot as plt\n",
        "import torch\n",
        "\n",
        "# 1. Загрузка и предобработка данных MNIST\n",
        "# Загружаем тестовую часть набора данных MNIST и нормализуем изображения\n",
        "(_, _), (x_test, y_test) = mnist.load_data()\n",
        "x_test = x_test.astype('float32') / 255.0\n",
        "y_test = to_categorical(y_test, num_classes=10)\n",
        "\n",
        "# 2. Загрузка предварительно обученной модели\n",
        "# Загружаем модель, обученную на MNIST, из файла 'mnist_model.h5'\n",
        "model = tf.keras.models.load_model('mnist_model.h5')\n",
        "\n",
        "# 3. Оценка точности на обычных тестовых данных\n",
        "# Проверяем производительность модели на \"чистых\" тестовых данных\n",
        "clean_loss, clean_accuracy = model.evaluate(x_test, y_test, verbose=0)\n",
        "print(f'Accuracy on clean images: {clean_accuracy * 100:.2f}%')\n",
        "\n",
        "# 4. Инициализация Foolbox и создание атаки Carlini-Wagner\n",
        "# Преобразуем загруженную модель TensorFlow в модель Foolbox\n",
        "fmodel = fb.TensorFlowModel(model, bounds=(0, 1))\n",
        "\n",
        "# Выбираем одно изображение из тестового набора для атаки\n",
        "single_image = tf.convert_to_tensor(x_test[1:2], dtype=tf.float32)\n",
        "true_label = tf.convert_to_tensor(np.argmax(y_test[1]), dtype=tf.int64)\n",
        "\n",
        "# Создаем атаку Carlini-Wagner с заданным количеством шагов\n",
        "cw_attack = fb.attacks.L2CarliniWagnerAttack(steps=3)\n",
        "\n",
        "# Выполняем атаку на выбранное изображение\n",
        "adv_example = cw_attack(fmodel, single_image, true_label[None], epsilons=0.1)\n",
        "\n",
        "# 5. Визуализация исходного и атакованного изображений\n",
        "plt.figure(figsize=(12, 5))\n",
        "\n",
        "plt.subplot(1, 2, 1)\n",
        "plt.title(\"Original Image\")\n",
        "plt.imshow(single_image[0].numpy(), cmap=\"gray\")\n",
        "plt.axis('off')\n",
        "\n",
        "plt.subplot(1, 2, 2)\n",
        "plt.title(\"Adversarial Image (CW Attack)\")\n",
        "plt.imshow(np.squeeze(adv_example[0].numpy()), cmap=\"gray\")\n",
        "plt.axis('off')\n",
        "\n",
        "plt.show()\n",
        "\n",
        "# 6. Атака на выборку тестовых изображений\n",
        "# Для ускорения выполнения ограничиваем выборку 10% изображений\n",
        "adv_images = []\n",
        "\n",
        "for idx in range(len(x_test) // 10):\n",
        "    img_tensor = tf.convert_to_tensor(x_test[idx:idx+1], dtype=tf.float32)\n",
        "    label_tensor = tf.convert_to_tensor(np.argmax(y_test[idx]), dtype=tf.int64)\n",
        "\n",
        "    # Выполнение атаки Carlini-Wagner на выбранное изображение\n",
        "    adversarial_img, _, success = cw_attack(fmodel, img_tensor, label_tensor[None], epsilons=0.1)\n",
        "    adv_images.append(adversarial_img)\n",
        "\n",
        "# Объединяем атакованные изображения в единый тензор\n",
        "adv_images = tf.concat(adv_images, axis=0)\n",
        "\n",
        "# 7. Проверка точности модели на атакованных изображениях\n",
        "# Оценка модели на выборке атакованных изображений\n",
        "adv_loss, adv_accuracy = model.evaluate(adv_images, y_test[:len(adv_images)], verbose=0)\n",
        "print(f'Accuracy on adversarial images: {adv_accuracy * 100:.2f}%')\n"
      ],
      "metadata": {
        "colab": {
          "base_uri": "https://localhost:8080/",
          "height": 755
        },
        "id": "jp-dDWOH66tu",
        "outputId": "e397fc7d-ba0c-441e-ebc1-aba90599ac7f"
      },
      "execution_count": null,
      "outputs": [
        {
          "output_type": "stream",
          "name": "stdout",
          "text": [
            "Requirement already satisfied: foolbox in /usr/local/lib/python3.10/dist-packages (3.3.4)\n",
            "Requirement already satisfied: numpy in /usr/local/lib/python3.10/dist-packages (from foolbox) (1.26.4)\n",
            "Requirement already satisfied: scipy in /usr/local/lib/python3.10/dist-packages (from foolbox) (1.13.1)\n",
            "Requirement already satisfied: setuptools in /usr/local/lib/python3.10/dist-packages (from foolbox) (75.1.0)\n",
            "Requirement already satisfied: eagerpy>=0.30.0 in /usr/local/lib/python3.10/dist-packages (from foolbox) (0.30.0)\n",
            "Requirement already satisfied: GitPython>=3.0.7 in /usr/local/lib/python3.10/dist-packages (from foolbox) (3.1.43)\n",
            "Requirement already satisfied: typing-extensions>=3.7.4.1 in /usr/local/lib/python3.10/dist-packages (from foolbox) (4.12.2)\n",
            "Requirement already satisfied: requests>=2.24.0 in /usr/local/lib/python3.10/dist-packages (from foolbox) (2.32.3)\n",
            "Requirement already satisfied: gitdb<5,>=4.0.1 in /usr/local/lib/python3.10/dist-packages (from GitPython>=3.0.7->foolbox) (4.0.11)\n",
            "Requirement already satisfied: charset-normalizer<4,>=2 in /usr/local/lib/python3.10/dist-packages (from requests>=2.24.0->foolbox) (3.4.0)\n",
            "Requirement already satisfied: idna<4,>=2.5 in /usr/local/lib/python3.10/dist-packages (from requests>=2.24.0->foolbox) (3.10)\n",
            "Requirement already satisfied: urllib3<3,>=1.21.1 in /usr/local/lib/python3.10/dist-packages (from requests>=2.24.0->foolbox) (2.2.3)\n",
            "Requirement already satisfied: certifi>=2017.4.17 in /usr/local/lib/python3.10/dist-packages (from requests>=2.24.0->foolbox) (2024.8.30)\n",
            "Requirement already satisfied: smmap<6,>=3.0.1 in /usr/local/lib/python3.10/dist-packages (from gitdb<5,>=4.0.1->GitPython>=3.0.7->foolbox) (5.0.1)\n"
          ]
        },
        {
          "output_type": "stream",
          "name": "stderr",
          "text": [
            "WARNING:absl:Compiled the loaded model, but the compiled metrics have yet to be built. `model.compile_metrics` will be empty until you train or evaluate the model.\n"
          ]
        },
        {
          "output_type": "stream",
          "name": "stdout",
          "text": [
            "Accuracy on clean images: 97.87%\n"
          ]
        },
        {
          "output_type": "display_data",
          "data": {
            "text/plain": [
              "<Figure size 1200x500 with 2 Axes>"
            ],
            "image/png": "[encoded data removed]"
          },
          "metadata": {}
        },
        {
          "output_type": "stream",
          "name": "stdout",
          "text": [
            "Accuracy on adversarial images: 8.50%\n"
          ]
        }
      ]
    },
    {
      "cell_type": "markdown",
      "source": [
        "**Вывод:**\n",
        "\n",
        "Точность модели на чистых данных составляет 97.87%, что указывает на хорошую способность модели классифицировать изображения MNIST без каких-либо вмешательств.\n",
        "\n",
        "Однако точность на атакованных изображениях составляет всего 8.50%. Это означает, что атака Carlini-Wagner значительно снизила производительность модели, демонстрируя её уязвимость к таким атакам. Это свидетельствует о том, что даже небольшие изменения в изображениях, вызванные атакой, могут вводить модель в заблуждение и снижать её точность.\n",
        "\n",
        "Итоговый вывод:\n",
        "Accuracy on clean images: 97.87% — высокая точность модели на исходных, \"чистых\" изображениях.\n",
        "Accuracy on adversarial images: 8.50% — значительное снижение точности модели на изображениях, подвергнутых атаке, что указывает на её уязвимость."
      ],
      "metadata": {
        "id": "OOFKbrkm_PiE"
      }
    }
  ]
}